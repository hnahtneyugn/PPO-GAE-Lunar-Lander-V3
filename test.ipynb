{
 "cells": [
  {
   "cell_type": "code",
   "execution_count": 4,
   "id": "7b4917d8",
   "metadata": {},
   "outputs": [
    {
     "data": {
      "image/png": "[encoded data removed]",
      "text/plain": [
       "<Figure size 640x480 with 1 Axes>"
      ]
     },
     "metadata": {},
     "output_type": "display_data"
    }
   ],
   "source": [
    "import matplotlib.pyplot as plt\n",
    "import numpy as np\n",
    "\n",
    "xpoints = [-200, -150, -50, 0, 30, 60, 180, 200]\n",
    "ypoints = [0, 1, 2, 3, 4, 5, 6, 7]\n",
    "\n",
    "plt.plot(ypoints, xpoints)\n",
    "plt.show()"
   ]
  },
  {
   "cell_type": "markdown",
   "id": "3d1889d9",
   "metadata": {},
   "source": [
    "$$E_t[\\log \\pi_{\\theta}(a_t|s_t)\\hat{A}_t]$$"
   ]
  },
  {
   "cell_type": "code",
   "execution_count": 13,
   "id": "8ba06960",
   "metadata": {},
   "outputs": [],
   "source": [
    "arr = []\n",
    "nparr = np.array([])"
   ]
  },
  {
   "cell_type": "code",
   "execution_count": 5,
   "id": "03f4e57c",
   "metadata": {},
   "outputs": [],
   "source": [
    "import gymnasium as gym\n",
    "import numpy as np\n",
    "from tqdm import tqdm\n",
    "from gymnasium.wrappers import RecordVideo\n",
    "import torch\n",
    "import torch.nn as nn\n",
    "import torch.distributions as distributions\n",
    "import torch.optim as optim\n",
    "import matplotlib.pyplot as plt"
   ]
  },
  {
   "cell_type": "code",
   "execution_count": 7,
   "id": "265c4bee",
   "metadata": {},
   "outputs": [
    {
     "data": {
      "text/plain": [
       "array([ 4.2057036e-05,  1.3993256e+00,  4.2450326e-03, -5.1531208e-01,\n",
       "       -4.1940391e-05, -9.6156617e-04,  0.0000000e+00,  0.0000000e+00],\n",
       "      dtype=float32)"
      ]
     },
     "execution_count": 7,
     "metadata": {},
     "output_type": "execute_result"
    }
   ],
   "source": [
    "env = gym.make(\n",
    "    \"LunarLander-v3\",\n",
    "    continuous=False,     \n",
    "    gravity=-10.0,        \n",
    "    enable_wind=False,   \n",
    "    wind_power=15.0,      \n",
    "    turbulence_power=1.0, \n",
    "    render_mode=\"rgb_array\" \n",
    ")\n",
    "\n",
    "state, _ = env.reset()\n",
    "state"
   ]
  },
  {
   "cell_type": "code",
   "execution_count": 14,
   "id": "486e17c1",
   "metadata": {},
   "outputs": [],
   "source": [
    "action = env.action_space.sample()\n",
    "next_state, reward, truncated, terminated, _ = env.step(action)"
   ]
  },
  {
   "cell_type": "code",
   "execution_count": 15,
   "id": "c3efea4d",
   "metadata": {},
   "outputs": [
    {
     "data": {
      "text/plain": [
       "array([ 1.5468597e-04,  1.3871599e+00,  1.3123604e-02, -5.4069507e-01,\n",
       "       -1.8713807e-03, -3.6591627e-02,  0.0000000e+00,  0.0000000e+00],\n",
       "      dtype=float32)"
      ]
     },
     "execution_count": 15,
     "metadata": {},
     "output_type": "execute_result"
    }
   ],
   "source": [
    "next_state"
   ]
  },
  {
   "cell_type": "code",
   "execution_count": 16,
   "id": "be446528",
   "metadata": {},
   "outputs": [
    {
     "data": {
      "text/plain": [
       "np.float64(-1.548856040552663)"
      ]
     },
     "execution_count": 16,
     "metadata": {},
     "output_type": "execute_result"
    }
   ],
   "source": [
    "reward"
   ]
  },
  {
   "cell_type": "code",
   "execution_count": 17,
   "id": "3b8d5858",
   "metadata": {},
   "outputs": [
    {
     "data": {
      "text/plain": [
       "[np.float64(-1.548856040552663)]"
      ]
     },
     "execution_count": 17,
     "metadata": {},
     "output_type": "execute_result"
    }
   ],
   "source": [
    "arr.append(reward)\n",
    "arr"
   ]
  },
  {
   "cell_type": "code",
   "execution_count": 18,
   "id": "18643a7d",
   "metadata": {},
   "outputs": [
    {
     "data": {
      "text/plain": [
       "array([-1.54885604])"
      ]
     },
     "execution_count": 18,
     "metadata": {},
     "output_type": "execute_result"
    }
   ],
   "source": [
    "nparr = np.append(nparr, reward)\n",
    "nparr"
   ]
  }
 ],
 "metadata": {
  "kernelspec": {
   "display_name": "gymer",
   "language": "python",
   "name": "python3"
  },
  "language_info": {
   "codemirror_mode": {
    "name": "ipython",
    "version": 3
   },
   "file_extension": ".py",
   "mimetype": "text/x-python",
   "name": "python",
   "nbconvert_exporter": "python",
   "pygments_lexer": "ipython3",
   "version": "3.13.2"
  }
 },
 "nbformat": 4,
 "nbformat_minor": 5
}
