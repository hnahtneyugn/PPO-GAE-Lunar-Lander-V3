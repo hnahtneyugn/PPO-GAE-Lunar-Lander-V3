{
 "cells": [
  {
   "cell_type": "code",
   "execution_count": 13,
   "id": "5b75475b",
   "metadata": {},
   "outputs": [
    {
     "name": "stdout",
     "output_type": "stream",
     "text": [
      "Manual: 0.00023627281188964844\n",
      "np.std: 0.00023937225341796875\n"
     ]
    }
   ],
   "source": [
    "import numpy as np\n",
    "import time\n",
    "import math\n",
    "\n",
    "# 100-element list\n",
    "data = list(range(100))\n",
    "\n",
    "# Manual calculation (population standard deviation)\n",
    "start = time.time()\n",
    "mean = sum(data) / len(data)\n",
    "sum_squares = sum((x - mean) ** 2 for x in data)\n",
    "manual_std = math.sqrt(sum_squares / len(data))\n",
    "print(\"Manual:\", time.time() - start)\n",
    "\n",
    "# np.std (population standard deviation, ddof=0)\n",
    "start = time.time()\n",
    "np_std = np.std(data)\n",
    "print(\"np.std:\", time.time() - start)"
   ]
  },
  {
   "cell_type": "code",
   "execution_count": 15,
   "id": "89b9ae87",
   "metadata": {},
   "outputs": [
    {
     "name": "stdout",
     "output_type": "stream",
     "text": [
      "Manual (small): 5.173683166503906e-05\n",
      "Manual (large): 0.0029871463775634766\n",
      "np.mean (small): 8.58306884765625e-05\n",
      "np.mean (large): 0.02709507942199707\n",
      "np.average (small): 6.508827209472656e-05\n",
      "np.average (large): 0.03324079513549805\n"
     ]
    }
   ],
   "source": [
    "import numpy as np\n",
    "import time\n",
    "\n",
    "# Small list\n",
    "small_list = list(range(100))\n",
    "# Large list\n",
    "large_list = list(range(1000000))\n",
    "\n",
    "# Manual calculation\n",
    "start = time.time()\n",
    "manual_small = sum(small_list) / len(small_list)\n",
    "print(\"Manual (small):\", time.time() - start)\n",
    "\n",
    "start = time.time()\n",
    "manual_large = sum(large_list) / len(large_list)\n",
    "print(\"Manual (large):\", time.time() - start)\n",
    "\n",
    "# np.mean\n",
    "start = time.time()\n",
    "np_mean_small = np.mean(small_list)\n",
    "print(\"np.mean (small):\", time.time() - start)\n",
    "\n",
    "start = time.time()\n",
    "np_mean_large = np.mean(large_list)\n",
    "print(\"np.mean (large):\", time.time() - start)\n",
    "\n",
    "# np.average (for comparison)\n",
    "start = time.time()\n",
    "np_avg_small = np.average(small_list)\n",
    "print(\"np.average (small):\", time.time() - start)\n",
    "\n",
    "start = time.time()\n",
    "np_avg_large = np.average(large_list)\n",
    "print(\"np.average (large):\", time.time() - start)"
   ]
  },
  {
   "cell_type": "code",
   "execution_count": 2,
   "id": "13efaacf",
   "metadata": {},
   "outputs": [
    {
     "data": {
      "text/plain": [
       "[3, 4, 1, 2]"
      ]
     },
     "execution_count": 2,
     "metadata": {},
     "output_type": "execute_result"
    }
   ],
   "source": [
    "c = [3, 4]\n",
    "d = [1, 2]\n",
    "c + d"
   ]
  },
  {
   "cell_type": "code",
   "execution_count": 19,
   "id": "20ece3a2",
   "metadata": {},
   "outputs": [
    {
     "data": {
      "text/plain": [
       "[3, 4]"
      ]
     },
     "execution_count": 19,
     "metadata": {},
     "output_type": "execute_result"
    }
   ],
   "source": [
    "c"
   ]
  },
  {
   "cell_type": "code",
   "execution_count": 20,
   "id": "92ece517",
   "metadata": {},
   "outputs": [
    {
     "data": {
      "text/plain": [
       "[3, 4]"
      ]
     },
     "execution_count": 20,
     "metadata": {},
     "output_type": "execute_result"
    }
   ],
   "source": [
    "d"
   ]
  },
  {
   "cell_type": "code",
   "execution_count": 12,
   "id": "d889a845",
   "metadata": {},
   "outputs": [],
   "source": [
    "a = b = np.array([])\n",
    "a = np.append(a, 1)\n",
    "b = np.append(b, 2)"
   ]
  },
  {
   "cell_type": "code",
   "execution_count": 13,
   "id": "507ce904",
   "metadata": {},
   "outputs": [
    {
     "data": {
      "text/plain": [
       "array([1.])"
      ]
     },
     "execution_count": 13,
     "metadata": {},
     "output_type": "execute_result"
    }
   ],
   "source": [
    "a"
   ]
  },
  {
   "cell_type": "code",
   "execution_count": 14,
   "id": "fe7b900d",
   "metadata": {},
   "outputs": [
    {
     "data": {
      "text/plain": [
       "array([2.])"
      ]
     },
     "execution_count": 14,
     "metadata": {},
     "output_type": "execute_result"
    }
   ],
   "source": [
    "b"
   ]
  }
 ],
 "metadata": {
  "kernelspec": {
   "display_name": "gymer",
   "language": "python",
   "name": "python3"
  },
  "language_info": {
   "codemirror_mode": {
    "name": "ipython",
    "version": 3
   },
   "file_extension": ".py",
   "mimetype": "text/x-python",
   "name": "python",
   "nbconvert_exporter": "python",
   "pygments_lexer": "ipython3",
   "version": "3.13.2"
  }
 },
 "nbformat": 4,
 "nbformat_minor": 5
}
